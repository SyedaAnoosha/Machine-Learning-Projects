{
 "cells": [
  {
   "cell_type": "markdown",
   "id": "c3398819",
   "metadata": {},
   "source": [
    "# Linear Model From Scratch Code"
   ]
  },
  {
   "cell_type": "markdown",
   "id": "418f207e",
   "metadata": {},
   "source": [
    "## Multi Linear Regression"
   ]
  },
  {
   "cell_type": "code",
   "execution_count": null,
   "id": "0b347657",
   "metadata": {},
   "outputs": [],
   "source": [
    "import numpy as np\n",
    "import matplotlib.pyplot as plt\n",
    "from sklearn.linear_model import LinearRegression\n",
    "from sklearn.metrics import mean_squared_error, r2_score"
   ]
  },
  {
   "cell_type": "code",
   "execution_count": null,
   "id": "d2aae508",
   "metadata": {},
   "outputs": [],
   "source": [
    "class MultiLinearRegression:\n",
    "    def __init__(self, learning_rate=0.01, epochs=1000):\n",
    "        self.lr = learning_rate\n",
    "        self.epochs = epochs\n",
    "        self.weights = None\n",
    "        self.bias = None\n",
    "\n",
    "    def fit(self, X, y):\n",
    "        n_samples, n_features = X.shape\n",
    "        self.weights = np.zeros(n_features)\n",
    "        self.bias = 0\n",
    "\n",
    "        for _ in range(self.epochs):\n",
    "            y_pred = np.dot(X, self.weights) + self.bias\n",
    "            error = y_pred - y\n",
    "\n",
    "            dw = (2 / n_samples) * np.dot(X.T, error)\n",
    "            db = (2 / n_samples) * np.sum(error)\n",
    "\n",
    "            self.weights -= self.lr * dw\n",
    "            self.bias -= self.lr * db\n",
    "\n",
    "    def predict(self, X):\n",
    "        return np.dot(X, self.weights) + self.bias\n",
    "\n",
    "    def plot(self, X, y):\n",
    "        y_pred = self.predict(X)\n",
    "        plt.scatter(y, y_pred, label='Predicted vs Actual')\n",
    "        plt.xlabel('Actual y')\n",
    "        plt.ylabel('Predicted y')\n",
    "        plt.title('Predicted vs Actual Values')\n",
    "        plt.legend()\n",
    "        plt.show()"
   ]
  },
  {
   "cell_type": "code",
   "execution_count": 61,
   "id": "b1b203cf",
   "metadata": {},
   "outputs": [
    {
     "name": "stdout",
     "output_type": "stream",
     "text": [
      "First 5 samples of multi-dimensional X: [[0.7948113  0.50263709 0.57690388]\n",
      " [0.49251769 0.19524299 0.72245212]\n",
      " [0.28077236 0.02431597 0.6454723 ]\n",
      " [0.17711068 0.94045858 0.95392858]\n",
      " [0.91486439 0.3701587  0.01545662]]\n",
      "First 5 samples of multi-dimensional y: [ 9.4899341   8.42524851  6.4361046  12.50854851  5.32002623]\n"
     ]
    }
   ],
   "source": [
    "# Create synthetic multi-dimensional data\n",
    "X_multi = np.random.rand(100, 3)\n",
    "y_multi = 3 + 2 * X_multi[:, 0] + 4 * X_multi[:, 1] + 5 * X_multi[:, 2] + np.random.randn(100)\n",
    "\n",
    "print(\"First 5 samples of multi-dimensional X:\", X_multi[:5])\n",
    "print(\"First 5 samples of multi-dimensional y:\", y_multi[:5])"
   ]
  },
  {
   "cell_type": "code",
   "execution_count": 62,
   "id": "2ff1675b",
   "metadata": {},
   "outputs": [
    {
     "data": {
      "image/png": "[encoded data removed]",
      "text/plain": [
       "<Figure size 640x480 with 1 Axes>"
      ]
     },
     "metadata": {},
     "output_type": "display_data"
    },
    {
     "name": "stdout",
     "output_type": "stream",
     "text": [
      "Learned parameters for multi-dimensional regression:\n",
      "Weights: [2.11404748 3.73850678 5.18294889]\n",
      "Bias: 2.9845126939020754\n",
      "MSE for multi-dimensional regression: 1.1299724842080783\n",
      "R2 Score for multi-dimensional regression: 0.7780068369897164\n"
     ]
    }
   ],
   "source": [
    "model_multi = MultiLinearRegression(learning_rate=0.01, epochs=5000)\n",
    "model_multi.fit(X_multi, y_multi)\n",
    "y_multi_pred = model_multi.predict(X_multi)\n",
    "\n",
    "# Plot the results for multi-dimensional regression\n",
    "model_multi.plot(X_multi, y_multi)\n",
    "\n",
    "print(\"Learned parameters for multi-dimensional regression:\")\n",
    "print(\"Weights:\", model_multi.weights)\n",
    "print(\"Bias:\", model_multi.bias)\n",
    "\n",
    "# Predict and evaluate for multi-dimensional regression\n",
    "print(\"MSE for multi-dimensional regression:\", mean_squared_error(y_multi, y_multi_pred))\n",
    "print(\"R2 Score for multi-dimensional regression:\", r2_score(y_multi, y_multi_pred))"
   ]
  },
  {
   "cell_type": "markdown",
   "id": "324adbbc",
   "metadata": {},
   "source": [
    "## Comparision with Scikit-Learn"
   ]
  },
  {
   "cell_type": "code",
   "execution_count": null,
   "id": "6d77fbb1",
   "metadata": {},
   "outputs": [
    {
     "name": "stdout",
     "output_type": "stream",
     "text": [
      "Custom Multi Weights: [2.11404748 3.73850678 5.18294889]\n",
      "Sklearn Multi Weights: [2.1232442  3.74558009 5.19724816]\n",
      "Custom Multi Bias: 2.9845126939020754\n",
      "Sklearn Multi Bias: 2.967801674410884\n",
      "Sklearn Multi MSE: 1.1299432071968938\n",
      "Sklearn Multi R2: 0.7780125887194329\n"
     ]
    }
   ],
   "source": [
    "# Compare with sklearn's LinearRegression for multi-dimensional data\n",
    "sk_model_multi = LinearRegression()\n",
    "sk_model_multi.fit(X_multi, y_multi)\n",
    "\n",
    "print(f\"Custom Multi Weights: {model_multi.weights}\")\n",
    "print(f\"Sklearn Multi Weights: {sk_model_multi.coef_}\")\n",
    "\n",
    "print(f\"Custom Multi Bias: {model_multi.bias}\")\n",
    "print(f\"Sklearn Multi Bias: {sk_model_multi.intercept_}\")\n",
    "\n",
    "print(f\"Sklearn Multi MSE: {mean_squared_error(y_multi, sk_model_multi.predict(X_multi))}\")\n",
    "print(f\"Sklearn Multi R2: {r2_score(y_multi, sk_model_multi.predict(X_multi))}\")"
   ]
  }
 ],
 "metadata": {
  "kernelspec": {
   "display_name": "Python 3",
   "language": "python",
   "name": "python3"
  },
  "language_info": {
   "codemirror_mode": {
    "name": "ipython",
    "version": 3
   },
   "file_extension": ".py",
   "mimetype": "text/x-python",
   "name": "python",
   "nbconvert_exporter": "python",
   "pygments_lexer": "ipython3",
   "version": "3.12.4"
  }
 },
 "nbformat": 4,
 "nbformat_minor": 5
}
