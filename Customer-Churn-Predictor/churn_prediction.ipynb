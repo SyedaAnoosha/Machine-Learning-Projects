{
 "cells": [
  {
   "cell_type": "markdown",
   "id": "e37225d4",
   "metadata": {},
   "source": [
    "# Customer Churn Prediction"
   ]
  },
  {
   "cell_type": "markdown",
   "id": "b2b34858",
   "metadata": {},
   "source": [
    "## Imports"
   ]
  },
  {
   "cell_type": "code",
   "execution_count": null,
   "id": "1eb87b44",
   "metadata": {},
   "outputs": [],
   "source": [
    "import pandas as pd\n",
    "import numpy as np\n",
    "import matplotlib.pyplot as plt\n",
    "import seaborn as sns\n",
    "\n",
    "from sklearn.model_selection import train_test_split\n",
    "from sklearn.preprocessing import LabelEncoder, StandardScaler\n",
    "from sklearn.metrics import classification_report, confusion_matrix\n",
    "\n",
    "from sklearn.linear_model import LogisticRegression\n",
    "\n",
    "from xgboost import XGBClassifier\n",
    "\n",
    "from tensorflow.keras.models import Sequential\n",
    "from tensorflow.keras.layers import Dense\n",
    "\n",
    "import warnings\n",
    "warnings.filterwarnings(\"ignore\")"
   ]
  },
  {
   "cell_type": "markdown",
   "id": "87ee9817",
   "metadata": {},
   "source": [
    "## Exploration"
   ]
  },
  {
   "cell_type": "code",
   "execution_count": null,
   "id": "c2d8fec5",
   "metadata": {},
   "outputs": [],
   "source": [
    "df = pd.read_csv('Telco-Customer-Churn.csv')\n",
    "df.head()"
   ]
  },
  {
   "cell_type": "code",
   "execution_count": null,
   "id": "7e435b03",
   "metadata": {},
   "outputs": [],
   "source": [
    "ax = sns.barplot(x=df['Churn'].value_counts().index, y=df['Churn'].value_counts().values)\n",
    "plt.xlabel('Churn')\n",
    "plt.ylabel('Count')\n",
    "plt.title('Churn Value Counts')\n",
    "\n",
    "total = df.shape[0]\n",
    "for p in ax.patches:\n",
    "    count = int(p.get_height())\n",
    "    percentage = 100 * count / total\n",
    "    ax.annotate(f'{percentage:.1f}%', \n",
    "                (p.get_x() + p.get_width() / 2, p.get_height()), \n",
    "                ha='center', va='bottom')\n",
    "\n",
    "plt.show()"
   ]
  },
  {
   "cell_type": "markdown",
   "id": "e675c514",
   "metadata": {},
   "source": [
    "## Data Preprcoessing"
   ]
  },
  {
   "cell_type": "code",
   "execution_count": null,
   "id": "2ccfafd3",
   "metadata": {},
   "outputs": [],
   "source": [
    "df['TotalCharges'] = pd.to_numeric(df['TotalCharges'], errors='coerce')\n",
    "df.fillna(df.median(numeric_only=True), inplace=True)\n",
    "\n",
    "df['Churn'] = df['Churn'].map({'Yes': 1, 'No': 0})\n",
    "\n",
    "df = df[~df['Churn'].isna()]\n",
    "\n",
    "binary_cols = [col for col in df.columns if df[col].nunique() == 2 and df[col].dtype == 'object' and col != 'Churn']\n",
    "for col in binary_cols:\n",
    "    df[col] = LabelEncoder().fit_transform(df[col])\n",
    "\n",
    "df = pd.get_dummies(df, drop_first=True)"
   ]
  },
  {
   "cell_type": "markdown",
   "id": "a539f24e",
   "metadata": {},
   "source": [
    "## Train Test Split"
   ]
  },
  {
   "cell_type": "code",
   "execution_count": null,
   "id": "721cca0e",
   "metadata": {},
   "outputs": [],
   "source": [
    "X = df.drop(['Churn'], axis=1)\n",
    "y = df['Churn']\n",
    "\n",
    "X_train, X_test, y_train, y_test = train_test_split(X, y, test_size=0.2, random_state=42)"
   ]
  },
  {
   "cell_type": "markdown",
   "id": "ebde6aef",
   "metadata": {},
   "source": [
    "## Scale"
   ]
  },
  {
   "cell_type": "code",
   "execution_count": null,
   "id": "743789db",
   "metadata": {},
   "outputs": [],
   "source": [
    "scaler = StandardScaler()\n",
    "X_train_scaled = scaler.fit_transform(X_train)\n",
    "X_test_scaled = scaler.transform(X_test)"
   ]
  },
  {
   "cell_type": "markdown",
   "id": "bb8cac5f",
   "metadata": {},
   "source": [
    "## Model Training"
   ]
  },
  {
   "cell_type": "markdown",
   "id": "537edc12",
   "metadata": {},
   "source": [
    "Model comparison: Logistic Regression, XGBoost, and a simple Neural Network"
   ]
  },
  {
   "cell_type": "code",
   "execution_count": null,
   "id": "1ac81335",
   "metadata": {},
   "outputs": [],
   "source": [
    "# Logistic Regression\n",
    "lr_model = LogisticRegression(max_iter=1000, random_state=42)\n",
    "lr_model.fit(X_train_scaled, y_train)\n",
    "lr_preds = lr_model.predict(X_test_scaled)\n",
    "lr_probs = lr_model.predict_proba(X_test_scaled)[:, 1]\n",
    "\n",
    "# XGBoost \n",
    "xgb_model = XGBClassifier(use_label_encoder=False, eval_metric='logloss', random_state=42)\n",
    "xgb_model.fit(X_train_scaled, y_train)\n",
    "xgb_preds = xgb_model.predict(X_test_scaled)\n",
    "xgb_probs = xgb_model.predict_proba(X_test_scaled)[:, 1]\n",
    "\n",
    "# Deep Learning\n",
    "nn_model = Sequential([\n",
    "    Dense(64, input_dim=X_train_scaled.shape[1], activation='relu'),\n",
    "    Dense(32, activation='relu'),\n",
    "    Dense(1, activation='sigmoid')\n",
    "])\n",
    "nn_model.compile(loss='binary_crossentropy', optimizer='adam', metrics=['accuracy'])\n",
    "nn_model.fit(X_train_scaled, y_train, epochs=20, batch_size=32, verbose=0)\n",
    "nn_probs = nn_model.predict(X_test_scaled).flatten()\n",
    "nn_preds = (nn_probs > 0.5).astype(int)"
   ]
  },
  {
   "cell_type": "markdown",
   "id": "42ecbbe1",
   "metadata": {},
   "source": [
    "## Model Evaluation"
   ]
  },
  {
   "cell_type": "code",
   "execution_count": null,
   "id": "db7e9c8e",
   "metadata": {},
   "outputs": [],
   "source": [
    "# Evaluation\n",
    "for name, preds, probs in [\n",
    "    (\"Logistic Regression\", lr_preds, lr_probs),\n",
    "    (\"XGBoost\", xgb_preds, xgb_probs),\n",
    "    (\"Neural Network\", nn_preds, nn_probs)\n",
    "]:\n",
    "    print(f\"{name}:\\n\", classification_report(y_test, preds))\n",
    "    cm = confusion_matrix(y_test, preds)\n",
    "    sns.heatmap(cm, annot=True, fmt='d')\n",
    "    plt.title(f\"{name} Confusion Matrix\")\n",
    "    plt.show()"
   ]
  },
  {
   "cell_type": "markdown",
   "id": "3621fa6b",
   "metadata": {},
   "source": [
    "## Prediction"
   ]
  },
  {
   "cell_type": "code",
   "execution_count": null,
   "id": "8cc64403",
   "metadata": {},
   "outputs": [],
   "source": [
    "multi_customers = X.iloc[:5].copy()\n",
    "multi_customers['MonthlyCharges'] = 100\n",
    "multi_customers['tenure'] = 2\n",
    "\n",
    "scaled_multi = scaler.transform(multi_customers)\n",
    "predictions = nn_model.predict(scaled_multi).flatten()\n",
    "\n",
    "for i, prob in enumerate(predictions):\n",
    "    print(f\"Customer {i+1}: Churn Probability = {prob:.2%}, Predicted Class = {'Churn' if prob > 0.5 else 'No Churn'}\")"
   ]
  }
 ],
 "metadata": {
  "kernelspec": {
   "display_name": "myenv",
   "language": "python",
   "name": "python3"
  },
  "language_info": {
   "codemirror_mode": {
    "name": "ipython",
    "version": 3
   },
   "file_extension": ".py",
   "mimetype": "text/x-python",
   "name": "python",
   "nbconvert_exporter": "python",
   "pygments_lexer": "ipython3",
   "version": "3.12.4"
  }
 },
 "nbformat": 4,
 "nbformat_minor": 5
}
