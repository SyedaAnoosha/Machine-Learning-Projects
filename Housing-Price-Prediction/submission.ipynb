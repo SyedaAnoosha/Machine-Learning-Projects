{
 "cells": [
  {
   "cell_type": "markdown",
   "id": "f4d3fe25",
   "metadata": {},
   "source": [
    "# Housing Price Prediction"
   ]
  },
  {
   "cell_type": "markdown",
   "id": "67eb23a3",
   "metadata": {},
   "source": [
    "## Imports"
   ]
  },
  {
   "cell_type": "code",
   "execution_count": 12,
   "id": "e8628507",
   "metadata": {},
   "outputs": [],
   "source": [
    "import pandas as pd\n",
    "import numpy as np\n",
    "\n",
    "from sklearn.model_selection import train_test_split\n",
    "from sklearn.ensemble import GradientBoostingRegressor\n",
    "from sklearn.metrics import mean_squared_error"
   ]
  },
  {
   "cell_type": "markdown",
   "id": "0396b946",
   "metadata": {},
   "source": [
    "## Exploration"
   ]
  },
  {
   "cell_type": "code",
   "execution_count": 13,
   "id": "ac644ae1",
   "metadata": {},
   "outputs": [],
   "source": [
    "train = pd.read_csv(\"train.csv\")\n",
    "test = pd.read_csv(\"test.csv\")\n",
    "\n",
    "train_len = len(train)\n",
    "y = train[\"SalePrice\"]\n",
    "all_data = pd.concat([train.drop(\"SalePrice\", axis=1), test], axis=0)"
   ]
  },
  {
   "cell_type": "markdown",
   "id": "415e6abf",
   "metadata": {},
   "source": [
    "## Data Preprocessing"
   ]
  },
  {
   "cell_type": "code",
   "execution_count": 14,
   "id": "eee8cdbb",
   "metadata": {},
   "outputs": [],
   "source": [
    "all_data[\"LotFrontage\"] = all_data[\"LotFrontage\"].fillna(all_data[\"LotFrontage\"].median())\n",
    "all_data = all_data.drop([\"Alley\", \"PoolQC\", \"Fence\", \"MiscFeature\", \"FireplaceQu\"], axis=1)\n",
    "\n",
    "\n",
    "for col in all_data.select_dtypes(\"object\").columns:\n",
    "    all_data[col] = all_data[col].fillna(\"None\")\n",
    "\n",
    "# One-hot encoding\n",
    "all_data = pd.get_dummies(all_data)\n",
    "\n",
    "# Split back\n",
    "X = all_data[:train_len]\n",
    "X_test_final = all_data[train_len:]"
   ]
  },
  {
   "cell_type": "markdown",
   "id": "c020a9b9",
   "metadata": {},
   "source": [
    "## Dataset Split"
   ]
  },
  {
   "cell_type": "code",
   "execution_count": 15,
   "id": "78f69771",
   "metadata": {},
   "outputs": [],
   "source": [
    "X_train, X_val, y_train, y_val = train_test_split(X, y, test_size=0.2, random_state=42)\n",
    "\n",
    "X_train = X_train.fillna(X_train.median(numeric_only=True))\n",
    "X_val = X_val.fillna(X_train.median(numeric_only=True))"
   ]
  },
  {
   "cell_type": "markdown",
   "id": "2c3f3787",
   "metadata": {},
   "source": [
    "## Prediction on validation"
   ]
  },
  {
   "cell_type": "code",
   "execution_count": 16,
   "id": "fa914651",
   "metadata": {},
   "outputs": [
    {
     "name": "stdout",
     "output_type": "stream",
     "text": [
      "Validation RMSE: 26121.40\n"
     ]
    }
   ],
   "source": [
    "model = GradientBoostingRegressor(n_estimators=300, learning_rate=0.05, max_depth=4)\n",
    "model.fit(X_train, y_train)\n",
    "\n",
    "y_pred = model.predict(X_val)\n",
    "rmse = np.sqrt(mean_squared_error(y_val, y_pred))\n",
    "print(f\"Validation RMSE: {rmse:.2f}\")"
   ]
  },
  {
   "cell_type": "markdown",
   "id": "452f4f98",
   "metadata": {},
   "source": [
    "## Test Data Prediction"
   ]
  },
  {
   "cell_type": "code",
   "execution_count": 17,
   "id": "beb62121",
   "metadata": {},
   "outputs": [],
   "source": [
    "X = X.fillna(X.median(numeric_only=True))\n",
    "X_test_final = X_test_final.fillna(X.median(numeric_only=True))\n",
    "\n",
    "model.fit(X, y)\n",
    "final_preds = model.predict(X_test_final)\n",
    "\n",
    "submission = pd.DataFrame({\n",
    "    \"Id\": test[\"Id\"],\n",
    "    \"SalePrice\": final_preds\n",
    "})\n",
    "submission.to_csv(\"submission.csv\", index=False)"
   ]
  }
 ],
 "metadata": {
  "kernelspec": {
   "display_name": "myenv",
   "language": "python",
   "name": "python3"
  },
  "language_info": {
   "codemirror_mode": {
    "name": "ipython",
    "version": 3
   },
   "file_extension": ".py",
   "mimetype": "text/x-python",
   "name": "python",
   "nbconvert_exporter": "python",
   "pygments_lexer": "ipython3",
   "version": "3.12.4"
  }
 },
 "nbformat": 4,
 "nbformat_minor": 5
}
