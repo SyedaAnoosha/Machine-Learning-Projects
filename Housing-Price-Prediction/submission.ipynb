{
 "cells": [
  {
   "cell_type": "code",
   "execution_count": 2,
   "id": "e8628507",
   "metadata": {},
   "outputs": [],
   "source": [
    "import pandas as pd\n",
    "import numpy as np\n",
    "\n",
    "from sklearn.model_selection import train_test_split\n",
    "from sklearn.ensemble import GradientBoostingRegressor\n",
    "from sklearn.metrics import mean_squared_error"
   ]
  },
  {
   "cell_type": "code",
   "execution_count": 3,
   "id": "ac644ae1",
   "metadata": {},
   "outputs": [],
   "source": [
    "train = pd.read_csv(\"train.csv\")\n",
    "test = pd.read_csv(\"test.csv\")\n",
    "\n",
    "train_len = len(train)\n",
    "y = train[\"SalePrice\"]\n",
    "all_data = pd.concat([train.drop(\"SalePrice\", axis=1), test], axis=0)"
   ]
  },
  {
   "cell_type": "code",
   "execution_count": null,
   "id": "eee8cdbb",
   "metadata": {},
   "outputs": [],
   "source": [
    "# Simple fill strategies\n",
    "all_data[\"LotFrontage\"] = all_data[\"LotFrontage\"].fillna(all_data[\"LotFrontage\"].median())\n",
    "all_data = all_data.drop([\"Alley\", \"PoolQC\", \"Fence\", \"MiscFeature\", \"FireplaceQu\"], axis=1)\n",
    "\n",
    "# Fill categorical columns\n",
    "for col in all_data.select_dtypes(\"object\").columns:\n",
    "    all_data[col] = all_data[col].fillna(\"None\")\n",
    "\n",
    "# One-hot encoding\n",
    "all_data = pd.get_dummies(all_data)\n",
    "\n",
    "# Split back\n",
    "X = all_data[:train_len]\n",
    "X_test_final = all_data[train_len:]"
   ]
  },
  {
   "cell_type": "code",
   "execution_count": 9,
   "id": "78f69771",
   "metadata": {},
   "outputs": [
    {
     "name": "stdout",
     "output_type": "stream",
     "text": [
      "Validation RMSE: 25851.83\n"
     ]
    }
   ],
   "source": [
    "X_train, X_val, y_train, y_val = train_test_split(X, y, test_size=0.2, random_state=42)\n",
    "\n",
    "# Fill any remaining NaNs in X_train and X_val with the median value of each column\n",
    "X_train = X_train.fillna(X_train.median(numeric_only=True))\n",
    "X_val = X_val.fillna(X_train.median(numeric_only=True))\n",
    "\n",
    "model = GradientBoostingRegressor(n_estimators=300, learning_rate=0.05, max_depth=4)\n",
    "model.fit(X_train, y_train)\n",
    "\n",
    "y_pred = model.predict(X_val)\n",
    "rmse = np.sqrt(mean_squared_error(y_val, y_pred))\n",
    "print(f\"Validation RMSE: {rmse:.2f}\")"
   ]
  },
  {
   "cell_type": "code",
   "execution_count": null,
   "id": "beb62121",
   "metadata": {},
   "outputs": [
    {
     "name": "stdout",
     "output_type": "stream",
     "text": [
      "Submission saved.\n"
     ]
    }
   ],
   "source": [
    "# Fill any remaining NaNs in X and X_test_final with the median value of each column\n",
    "X = X.fillna(X.median(numeric_only=True))\n",
    "X_test_final = X_test_final.fillna(X.median(numeric_only=True))\n",
    "\n",
    "model.fit(X, y)\n",
    "final_preds = model.predict(X_test_final)\n",
    "\n",
    "submission = pd.DataFrame({\n",
    "    \"Id\": test[\"Id\"],\n",
    "    \"SalePrice\": final_preds\n",
    "})\n",
    "submission.to_csv(\"submission.csv\", index=False)\n"
   ]
  }
 ],
 "metadata": {
  "kernelspec": {
   "display_name": "myenv",
   "language": "python",
   "name": "python3"
  },
  "language_info": {
   "codemirror_mode": {
    "name": "ipython",
    "version": 3
   },
   "file_extension": ".py",
   "mimetype": "text/x-python",
   "name": "python",
   "nbconvert_exporter": "python",
   "pygments_lexer": "ipython3",
   "version": "3.12.4"
  }
 },
 "nbformat": 4,
 "nbformat_minor": 5
}
