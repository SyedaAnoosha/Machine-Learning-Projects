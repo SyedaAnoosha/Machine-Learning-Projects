{
 "cells": [
  {
   "cell_type": "code",
   "execution_count": null,
   "id": "3a2b69ba",
   "metadata": {},
   "outputs": [],
   "source": [
    "import pandas as pd\n",
    "import numpy as np\n",
    "\n",
    "from sklearn.model_selection import train_test_split, GridSearchCV, cross_val_score\n",
    "from sklearn.preprocessing import StandardScaler, OneHotEncoder\n",
    "from sklearn.compose import ColumnTransformer\n",
    "from sklearn.pipeline import Pipeline\n",
    "from sklearn.impute import SimpleImputer\n",
    "from sklearn.metrics import mean_squared_error, make_scorer\n",
    "from sklearn.feature_selection import SelectFromModel\n",
    "\n",
    "import xgboost as xgb\n",
    "\n",
    "# Load data\n",
    "train_df = pd.read_csv(\"train.csv\")\n",
    "test_df = pd.read_csv(\"test.csv\")\n",
    "\n",
    "# Drop irrelevant/missing-heavy columns\n",
    "cols_to_drop = ['Alley', 'PoolQC', 'Fence', 'MiscFeature', 'FireplaceQu']\n",
    "train_df.drop(columns=cols_to_drop, inplace=True)\n",
    "test_df.drop(columns=cols_to_drop, inplace=True)\n",
    "\n",
    "# Save ID and apply log-transform\n",
    "train_df['SalePrice'] = np.log1p(train_df['SalePrice'])  # log1p for log(1 + x)\n",
    "train_ids = train_df[\"Id\"]\n",
    "test_ids = test_df[\"Id\"]\n",
    "\n",
    "train_df.drop(columns=[\"Id\"], inplace=True)\n",
    "test_df.drop(columns=[\"Id\"], inplace=True)\n",
    "\n",
    "X = train_df.drop(\"SalePrice\", axis=1)\n",
    "y = train_df[\"SalePrice\"]\n",
    "\n",
    "# Combine for consistent encoding\n",
    "X_all = pd.concat([X, test_df], axis=0)"
   ]
  },
  {
   "cell_type": "code",
   "execution_count": null,
   "id": "9c4d2e9b",
   "metadata": {},
   "outputs": [],
   "source": [
    "categorical_cols = X_all.select_dtypes(include=['object']).columns.tolist()\n",
    "numerical_cols = X_all.select_dtypes(exclude=['object']).columns.tolist()\n",
    "\n",
    "# Pipelines\n",
    "numerical_pipeline = Pipeline([\n",
    "    ('imputer', SimpleImputer(strategy='median')),\n",
    "    ('scaler', StandardScaler())\n",
    "])\n",
    "\n",
    "categorical_pipeline = Pipeline([\n",
    "    ('imputer', SimpleImputer(strategy='most_frequent')),\n",
    "    ('onehot', OneHotEncoder(handle_unknown='ignore', sparse_output=False))\n",
    "])\n",
    "\n",
    "preprocessor = ColumnTransformer([\n",
    "    ('num', numerical_pipeline, numerical_cols),\n",
    "    ('cat', categorical_pipeline, categorical_cols)\n",
    "])"
   ]
  },
  {
   "cell_type": "code",
   "execution_count": null,
   "id": "8475f34c",
   "metadata": {},
   "outputs": [
    {
     "name": "stdout",
     "output_type": "stream",
     "text": [
      "Fitting 5 folds for each of 72 candidates, totalling 360 fits\n"
     ]
    }
   ],
   "source": [
    "xgb_model = xgb.XGBRegressor(objective='reg:squarederror', n_jobs=-1, verbosity=0)\n",
    "\n",
    "pipe = Pipeline([\n",
    "    ('preprocessor', preprocessor),\n",
    "    ('regressor', xgb_model)\n",
    "])\n",
    "\n",
    "param_grid = {\n",
    "    'regressor__n_estimators': [300, 500],\n",
    "    'regressor__learning_rate': [0.01, 0.05, 0.1],\n",
    "    'regressor__max_depth': [3, 5, 7],\n",
    "    'regressor__subsample': [0.7, 1.0],\n",
    "    'regressor__colsample_bytree': [0.7, 1.0]\n",
    "}\n",
    "\n",
    "rmse_scorer = make_scorer(lambda y_true, y_pred: np.sqrt(mean_squared_error(y_true, y_pred)), greater_is_better=False)\n",
    "\n",
    "grid_search = GridSearchCV(pipe, param_grid, cv=5, scoring=rmse_scorer, verbose=1)\n",
    "grid_search.fit(X, y)\n",
    "\n",
    "print(f\"Best RMSE: {-grid_search.best_score_:.4f}\")\n",
    "print(f\"Best Params: {grid_search.best_params_}\")"
   ]
  },
  {
   "cell_type": "code",
   "execution_count": null,
   "id": "8d4b9aa4",
   "metadata": {},
   "outputs": [],
   "source": [
    "# Get preprocessed features\n",
    "X_processed = grid_search.best_estimator_.named_steps['preprocessor'].transform(X)\n",
    "feature_selector = SelectFromModel(grid_search.best_estimator_.named_steps['regressor'], threshold='median', prefit=True)\n",
    "X_selected = feature_selector.transform(X_processed)"
   ]
  },
  {
   "cell_type": "code",
   "execution_count": null,
   "id": "f260af5c",
   "metadata": {},
   "outputs": [],
   "source": [
    "cv_rmse_scores = cross_val_score(grid_search.best_estimator_, X, y, \n",
    "                                 scoring=rmse_scorer, cv=5)\n",
    "\n",
    "print(\"Cross-Validation RMSEs:\", -cv_rmse_scores)\n",
    "print(\"Mean CV RMSE:\", -cv_rmse_scores.mean())"
   ]
  },
  {
   "cell_type": "code",
   "execution_count": null,
   "id": "751a62cd",
   "metadata": {},
   "outputs": [],
   "source": [
    "X_test = test_df.copy()\n",
    "final_preds_log = grid_search.predict(X_test)\n",
    "final_preds = np.expm1(final_preds_log)  # Reverse of log1p\n",
    "\n",
    "submission = pd.DataFrame({\n",
    "    'Id': test_ids,\n",
    "    'SalePrice': final_preds\n",
    "})\n",
    "\n",
    "submission.to_csv('submission.csv', index=False)\n",
    "print(\"submission.csv created\")"
   ]
  }
 ],
 "metadata": {
  "kernelspec": {
   "display_name": "myenv",
   "language": "python",
   "name": "python3"
  },
  "language_info": {
   "codemirror_mode": {
    "name": "ipython",
    "version": 3
   },
   "file_extension": ".py",
   "mimetype": "text/x-python",
   "name": "python",
   "nbconvert_exporter": "python",
   "pygments_lexer": "ipython3",
   "version": "3.12.4"
  }
 },
 "nbformat": 4,
 "nbformat_minor": 5
}
